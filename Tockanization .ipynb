{
 "cells": [
  {
   "cell_type": "code",
   "execution_count": 1,
   "metadata": {},
   "outputs": [],
   "source": [
    "import nltk\n",
    "#nltk.download()"
   ]
  },
  {
   "cell_type": "code",
   "execution_count": 3,
   "metadata": {},
   "outputs": [],
   "source": [
    "paragraph = \"\"\"I have a dream that one day down in Alabama, with its vicious racists, \n",
    "with its governor having his lips dripping with the words of interposition and nullification – \n",
    "one day right there in Alabama little black boys and black girls will be able to join hands\n",
    "with little white boys and white girls as sisters and brothers.I have a dream today.\n",
    "I have a dream that one day every valley shall be exalted and every hill and mountain \n",
    "shall be made low, the rough places will be made plain, and the crooked places will \n",
    "be made straight, and the glory of the Lord shall be revealed and all flesh shall see it together.\"\"\""
   ]
  },
  {
   "cell_type": "code",
   "execution_count": 4,
   "metadata": {},
   "outputs": [],
   "source": [
    "sentences = nltk.sent_tokenize(paragraph)"
   ]
  },
  {
   "cell_type": "code",
   "execution_count": 6,
   "metadata": {},
   "outputs": [
    {
     "data": {
      "text/plain": [
       "2"
      ]
     },
     "execution_count": 6,
     "metadata": {},
     "output_type": "execute_result"
    }
   ],
   "source": [
    "len(sentences)"
   ]
  },
  {
   "cell_type": "code",
   "execution_count": 7,
   "metadata": {},
   "outputs": [],
   "source": [
    "words = nltk.word_tokenize(paragraph)"
   ]
  },
  {
   "cell_type": "code",
   "execution_count": 8,
   "metadata": {},
   "outputs": [
    {
     "data": {
      "text/plain": [
       "121"
      ]
     },
     "execution_count": 8,
     "metadata": {},
     "output_type": "execute_result"
    }
   ],
   "source": [
    "len(words)"
   ]
  },
  {
   "cell_type": "code",
   "execution_count": 9,
   "metadata": {},
   "outputs": [
    {
     "data": {
      "text/plain": [
       "['I',\n",
       " 'have',\n",
       " 'a',\n",
       " 'dream',\n",
       " 'that',\n",
       " 'one',\n",
       " 'day',\n",
       " 'down',\n",
       " 'in',\n",
       " 'Alabama',\n",
       " ',',\n",
       " 'with',\n",
       " 'its',\n",
       " 'vicious',\n",
       " 'racists',\n",
       " ',',\n",
       " 'with',\n",
       " 'its',\n",
       " 'governor',\n",
       " 'having',\n",
       " 'his',\n",
       " 'lips',\n",
       " 'dripping',\n",
       " 'with',\n",
       " 'the',\n",
       " 'words',\n",
       " 'of',\n",
       " 'interposition',\n",
       " 'and',\n",
       " 'nullification',\n",
       " '–',\n",
       " 'one',\n",
       " 'day',\n",
       " 'right',\n",
       " 'there',\n",
       " 'in',\n",
       " 'Alabama',\n",
       " 'little',\n",
       " 'black',\n",
       " 'boys',\n",
       " 'and',\n",
       " 'black',\n",
       " 'girls',\n",
       " 'will',\n",
       " 'be',\n",
       " 'able',\n",
       " 'to',\n",
       " 'join',\n",
       " 'hands',\n",
       " 'with',\n",
       " 'little',\n",
       " 'white',\n",
       " 'boys',\n",
       " 'and',\n",
       " 'white',\n",
       " 'girls',\n",
       " 'as',\n",
       " 'sisters',\n",
       " 'and',\n",
       " 'brothers.I',\n",
       " 'have',\n",
       " 'a',\n",
       " 'dream',\n",
       " 'today',\n",
       " '.',\n",
       " 'I',\n",
       " 'have',\n",
       " 'a',\n",
       " 'dream',\n",
       " 'that',\n",
       " 'one',\n",
       " 'day',\n",
       " 'every',\n",
       " 'valley',\n",
       " 'shall',\n",
       " 'be',\n",
       " 'exalted',\n",
       " 'and',\n",
       " 'every',\n",
       " 'hill',\n",
       " 'and',\n",
       " 'mountain',\n",
       " 'shall',\n",
       " 'be',\n",
       " 'made',\n",
       " 'low',\n",
       " ',',\n",
       " 'the',\n",
       " 'rough',\n",
       " 'places',\n",
       " 'will',\n",
       " 'be',\n",
       " 'made',\n",
       " 'plain',\n",
       " ',',\n",
       " 'and',\n",
       " 'the',\n",
       " 'crooked',\n",
       " 'places',\n",
       " 'will',\n",
       " 'be',\n",
       " 'made',\n",
       " 'straight',\n",
       " ',',\n",
       " 'and',\n",
       " 'the',\n",
       " 'glory',\n",
       " 'of',\n",
       " 'the',\n",
       " 'Lord',\n",
       " 'shall',\n",
       " 'be',\n",
       " 'revealed',\n",
       " 'and',\n",
       " 'all',\n",
       " 'flesh',\n",
       " 'shall',\n",
       " 'see',\n",
       " 'it',\n",
       " 'together',\n",
       " '.']"
      ]
     },
     "execution_count": 9,
     "metadata": {},
     "output_type": "execute_result"
    }
   ],
   "source": [
    "words"
   ]
  }
 ],
 "metadata": {
  "kernelspec": {
   "display_name": "Python 3",
   "language": "python",
   "name": "python3"
  },
  "language_info": {
   "codemirror_mode": {
    "name": "ipython",
    "version": 3
   },
   "file_extension": ".py",
   "mimetype": "text/x-python",
   "name": "python",
   "nbconvert_exporter": "python",
   "pygments_lexer": "ipython3",
   "version": "3.8.5"
  }
 },
 "nbformat": 4,
 "nbformat_minor": 4
}
